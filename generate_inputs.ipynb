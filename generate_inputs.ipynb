{
 "cells": [
  {
   "cell_type": "code",
   "execution_count": null,
   "id": "3ca4ea02-256d-4564-900a-788eb1ab03f4",
   "metadata": {},
   "outputs": [],
   "source": [
    "mad_string = \"dft\\n  xc hf\\nend\\n\\ngeometry\\n  units angstrom\\n\""
   ]
  },
  {
   "cell_type": "code",
   "execution_count": null,
   "id": "da89f987-088a-446d-9a35-58758aaef79a",
   "metadata": {},
   "outputs": [],
   "source": [
    "import os\n",
    "import shutil\n",
    "\n",
    "def process_files(input_dir, output_dir):\n",
    "    # Iterate through the directory and its subdirectories\n",
    "    for root, dirs, files in os.walk(input_dir):\n",
    "        for file in files:\n",
    "            # Check if the file is the specific file you want to process\n",
    "            if file == \"struc.xyz\": \n",
    "                # Create the corresponding directory structure in the output directory\n",
    "                output_subdir = os.path.join(output_dir, os.path.relpath(root, input_dir))\n",
    "                #os.makedirs(output_subdir, exist_ok=True)\n",
    "                \n",
    "                # Construct the input and output file paths\n",
    "                input_file_path = os.path.join(root, file)\n",
    "                output_file_path = os.path.join(output_subdir, file)\n",
    "                \n",
    "                # Read the contents of the input file\n",
    "                with open(input_file_path, 'r') as input_file:\n",
    "                    file_contents = mad_string+''.join([str(elem) for elem in input_file.readlines()[2:]])+\"end\"\n",
    "                   # print(\"---------------------------------------------------------\")\n",
    "                   # print(file_contents)\n",
    "                   # print(\"---------------------------------------------------------\")\n",
    "                \n",
    "                # Write the contents to the output file\n",
    "                with open(output_file_path, 'w') as output_file:\n",
    "                    output_file.write(file_contents)"
   ]
  },
  {
   "cell_type": "code",
   "execution_count": null,
   "id": "a95ac63c-f872-40ff-beda-fd55eddf00f1",
   "metadata": {},
   "outputs": [],
   "source": [
    "# Define input and output directories\n",
    "input_directory = \".\"  # Change this to your desired input directory\n",
    "output_directory = \"./output\"  # Change this to your desired output directory\n",
    "\n",
    "# Call the function to process files\n",
    "process_files(input_directory, output_directory)"
   ]
  },
  {
   "cell_type": "code",
   "execution_count": null,
   "id": "297b17cb-ccdb-42e8-a234-09883a3f89c9",
   "metadata": {},
   "outputs": [],
   "source": []
  }
 ],
 "metadata": {
  "kernelspec": {
   "display_name": "Python 3 (ipykernel)",
   "language": "python",
   "name": "python3"
  },
  "language_info": {
   "codemirror_mode": {
    "name": "ipython",
    "version": 3
   },
   "file_extension": ".py",
   "mimetype": "text/x-python",
   "name": "python",
   "nbconvert_exporter": "python",
   "pygments_lexer": "ipython3",
   "version": "3.11.5"
  }
 },
 "nbformat": 4,
 "nbformat_minor": 5
}
