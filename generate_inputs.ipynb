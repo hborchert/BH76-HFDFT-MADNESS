{
 "cells": [
  {
   "cell_type": "code",
   "execution_count": null,
   "id": "3ca4ea02-256d-4564-900a-788eb1ab03f4",
   "metadata": {},
   "outputs": [],
   "source": [
    "#mad_string = \"dft\\n  xc hf\\nend\\n\\ngeometry\\n  units angstrom\\n\"\n",
    "restart_string = \"dft\\n  xc hf\\n  nopen {nopen}\\nend\\n\\ngeometry\\n  units angstrom\\n\"\n",
    "pbe_string = \"dft\\n  xc pbe\\n  restart true\\n  noiter true\\n  protocol [1.e-6]\\n  nopen {nopen}\\nend\\n\\ngeometry\\n  units angstrom\\n\""
   ]
  },
  {
   "cell_type": "code",
   "execution_count": null,
   "id": "60295371-2263-4463-8ed8-8b79ff4c07e5",
   "metadata": {},
   "outputs": [],
   "source": [
    "import yaml\n",
    "cmdict = yaml.load(open('BH76_chg_2s.yaml','r'), Loader=yaml.Loader)"
   ]
  },
  {
   "cell_type": "code",
   "execution_count": null,
   "id": "da89f987-088a-446d-9a35-58758aaef79a",
   "metadata": {},
   "outputs": [],
   "source": [
    "import os\n",
    "import shutil\n",
    "input_string = restart_string\n",
    "\n",
    "def process_files(input_dir, output_dir):\n",
    "    # Iterate through the directory and its subdirectories\n",
    "    for root, dirs, files in os.walk(input_dir):\n",
    "        for file in files:\n",
    "            # Check if the file is the specific file you want to process\n",
    "            if file == \"struc.xyz\": \n",
    "                # Create the corresponding directory structure in the output directory\n",
    "                output_subdir = os.path.join(output_dir, os.path.relpath(root, input_dir))\n",
    "                os.makedirs(output_subdir, exist_ok=True)\n",
    "                \n",
    "                # Construct the input and output file paths\n",
    "                input_file_path = os.path.join(root, file)\n",
    "                output_file_path = os.path.join(output_subdir, file)\n",
    "                \n",
    "                # Read the contents of the input file\n",
    "                with open(input_file_path, 'r') as input_file:\n",
    "                    mol = output_file_path.split('/')[5]\n",
    "                    print(mol)\n",
    "                    if mol in cmdict:\n",
    "                        if cmdict[mol]['R']:\n",
    "                            mad_string = input_string.format(nopen = 0)   \n",
    "                        elif not cmdict[mol]['R'] and cmdict[mol]['2S'] == 1:\n",
    "                            mad_string = input_string.format(nopen = 1)\n",
    "                        elif not cmdict[mol]['R'] and cmdict[mol]['2S'] == 2:\n",
    "                            mad_string = input_string.format(nopen = 2)\n",
    "                            \n",
    "                        #print(mol, '\\t', nopen, '\\t',cmdict[mol]['R'], cmdict[mol]['2S'])\n",
    "                        \n",
    "                        print(mad_string)\n",
    "                        file_contents = mad_string+''.join([str(elem) for elem in input_file.readlines()[2:]])+\"end\"\n",
    "                        print(file_contents)\n",
    "                    #print(mol)\n",
    "                    #print(\"---------------------------------------------------------\")\n",
    "                    #print(file_contents)\n",
    "                    #print(\"---------------------------------------------------------\")\n",
    "                \n",
    "                # Write the contents to the output file\n",
    "                with open(output_file_path, 'w') as output_file:\n",
    "                    output_file.write(file_contents)"
   ]
  },
  {
   "cell_type": "code",
   "execution_count": null,
   "id": "3f1cefff-1f1d-4e22-bb99-b5b5be56c162",
   "metadata": {},
   "outputs": [],
   "source": [
    "def copy_specific_file(input_dir, output_dir, filename):\n",
    "    # Create the output directory if it doesn't exist\n",
    "    if not os.path.exists(output_dir):\n",
    "        os.makedirs(output_dir)\n",
    "\n",
    "    # Iterate through the input directory and its subdirectories\n",
    "    for root, dirs, files in os.walk(input_dir):\n",
    "        for file in files:\n",
    "            # Check if the file matches the specified filename\n",
    "            if file == filename:\n",
    "                # Create the corresponding directory structure in the output directory\n",
    "                relative_path = os.path.relpath(root, input_dir)\n",
    "                output_subdir = os.path.join(output_dir, relative_path)\n",
    "                os.makedirs(output_subdir, exist_ok=True)\n",
    "\n",
    "                # Construct the input and output file paths\n",
    "                input_file_path = os.path.join(root, file)\n",
    "                output_file_path = os.path.join(output_subdir, file)\n",
    "\n",
    "                # Copy the file to the output directory\n",
    "                shutil.copy2(input_file_path, output_file_path)\n",
    "\n",
    "## Example usage:\n",
    "#input_directory = \"/path/to/input_directory\"  # Replace with the input directory path\n",
    "#output_directory = \"output_directory\"  # Replace with the desired output directory name\n",
    "#filename_to_copy = \"specific_file.txt\"  # Replace with the specific filename to copy\n",
    "#\n",
    "#copy_specific_file(input_directory, output_directory, filename_to_copy)\n",
    "#"
   ]
  },
  {
   "cell_type": "code",
   "execution_count": null,
   "id": "a95ac63c-f872-40ff-beda-fd55eddf00f1",
   "metadata": {},
   "outputs": [],
   "source": [
    "# create hf folder structure and inputs\n",
    "import os\n",
    "import pathlib\n",
    "# Define input and output directories\n",
    "path = os.path.abspath(os.getcwd())\n",
    "input_directory = path+'/geometries'  # Change this to your desired input directory\n",
    "output_directory = os.path.join(path, 'hf')  # Change this to your desired output directorydirectory = os.path.join(path, 'hf')\n",
    "\n",
    "print(input_directory, output_directory)\n",
    "\n",
    "# Call the function to process files\n",
    "process_files(input_directory, output_directory)"
   ]
  },
  {
   "cell_type": "code",
   "execution_count": null,
   "id": "cbbf4c2c-1776-40eb-a705-d5b830868130",
   "metadata": {},
   "outputs": [],
   "source": [
    "# iterate thru hf, copy restartdata into mirrored struture in dfa folder\n",
    "import os\n",
    "import pathlib\n",
    "# Define input and output directories\n",
    "path = os.path.abspath(os.getcwd())\n",
    "input_directory = path+'/hf/geometries'  # Change this to your desired input directory\n",
    "output_directory = os.path.join(path, 'pbe')  # Change this to your desired output directorydirectory = os.path.join(path, 'hf')\n",
    "\n",
    "print(input_directory, output_directory)\n",
    "\n",
    "filename_to_copy = \"struc.restartdata.00000\"  # Replace with the specific filename to copy\n",
    "\n",
    "copy_specific_file(input_directory, output_directory, filename_to_copy)"
   ]
  },
  {
   "cell_type": "code",
   "execution_count": null,
   "id": "8b525780-35ae-408a-be59-733ef4bf7047",
   "metadata": {},
   "outputs": [],
   "source": [
    "# create dfa folder structure and restart (HF-DFT) inputs\n",
    "import os\n",
    "import pathlib\n",
    "# Define input and output directories\n",
    "path = os.path.abspath(os.getcwd())\n",
    "input_directory = path+'/geometries'  # Change this to your desired input directory\n",
    "output_directory = os.path.join(path, 'pbe')  # Change this to your desired output directorydirectory = os.path.join(path, 'hf')\n",
    "\n",
    "print(input_directory, output_directory)\n",
    "\n",
    "# Call the function to process files\n",
    "process_files(input_directory, output_directory)"
   ]
  },
  {
   "cell_type": "code",
   "execution_count": null,
   "id": "ba10d003-1eb3-4f75-8e32-8ab33af6cc3f",
   "metadata": {},
   "outputs": [],
   "source": []
  }
 ],
 "metadata": {
  "kernelspec": {
   "display_name": "Python 3 (ipykernel)",
   "language": "python",
   "name": "python3"
  },
  "language_info": {
   "codemirror_mode": {
    "name": "ipython",
    "version": 3
   },
   "file_extension": ".py",
   "mimetype": "text/x-python",
   "name": "python",
   "nbconvert_exporter": "python",
   "pygments_lexer": "ipython3",
   "version": "3.11.5"
  }
 },
 "nbformat": 4,
 "nbformat_minor": 5
}
