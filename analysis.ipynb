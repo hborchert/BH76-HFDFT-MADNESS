{
 "cells": [
  {
   "cell_type": "code",
   "execution_count": 6,
   "id": "27fb97f1-5c2e-41e6-8bca-2b31458150fe",
   "metadata": {},
   "outputs": [],
   "source": [
    "import yaml\n",
    "import os\n",
    "import pathlib\n",
    "import json"
   ]
  },
  {
   "cell_type": "code",
   "execution_count": 7,
   "id": "aaed2fd0-3f23-46e6-a60f-f08e2f29397d",
   "metadata": {},
   "outputs": [],
   "source": [
    "refdict = yaml.load(open('BH76_ref_energies.yaml','r'), Loader=yaml.Loader)\n",
    "kcal = 627.509\n",
    "all_mols = {}"
   ]
  },
  {
   "cell_type": "code",
   "execution_count": 8,
   "id": "5a0a4cac-22db-467f-b3ae-ec8d7186870c",
   "metadata": {},
   "outputs": [],
   "source": [
    "def process_files(input_dir):\n",
    "    mad_energies = {}\n",
    "    # Iterate through the directory and its subdirectories\n",
    "    for root, dirs, files in os.walk(input_dir):\n",
    "        for dir in dirs:\n",
    "            mol_name = dir\n",
    "            all_mols[mol_name] = True\n",
    "\n",
    "        for file in files:\n",
    "            if file == \"struc.calc_info.json\": \n",
    "                \n",
    "                input_file_path = os.path.join(root, file)\n",
    "                mol_name = input_file_path.split('/')[5]\n",
    "\n",
    "                f = open(input_file_path)\n",
    "                data = json.load(f)\n",
    "                #print(mol_name, data['return_energy'])\n",
    "                mad_energies[mol_name] = data['return_energy']\n",
    "    \n",
    "    return mad_energies"
   ]
  },
  {
   "cell_type": "code",
   "execution_count": 9,
   "id": "237a7bac-7acf-4327-8094-5e1d79e4c7e1",
   "metadata": {},
   "outputs": [],
   "source": [
    "path = os.path.abspath(os.getcwd())\n",
    "input_directory = path+'/pbe'  # Change this to your desired input directory\n",
    "mad_pbehf = process_files(input_directory)"
   ]
  },
  {
   "cell_type": "code",
   "execution_count": 10,
   "id": "d3fc1eb6-a226-42ad-b545-09c225a7a00e",
   "metadata": {},
   "outputs": [
    {
     "name": "stdout",
     "output_type": "stream",
     "text": [
      "72\n"
     ]
    }
   ],
   "source": [
    "print(len(mad_pbehf.keys()))"
   ]
  },
  {
   "cell_type": "code",
   "execution_count": 19,
   "id": "f6f39c1d-379f-4fc3-b5b8-6b9a5efd249b",
   "metadata": {},
   "outputs": [
    {
     "name": "stdout",
     "output_type": "stream",
     "text": [
      "MISSING: \n",
      "fch3clcomp2\n",
      "hoch3fts\n",
      "fch3clts\n",
      "f-\n",
      "hoch3fcomp1\n",
      "hoch3fcomp2\n",
      "oh-\n",
      "clch3clcomp\n",
      "fch3fts\n",
      "cl-\n",
      "clch3clts\n",
      "h\n",
      "fch3fcomp\n",
      "fch3clcomp1\n",
      ".ipynb_checkpoints\n"
     ]
    }
   ],
   "source": [
    "print('MISSING: ')\n",
    "cmdict = yaml.load(open('BH76_chg_2s.yaml','r'), Loader=yaml.Loader)\n",
    "for i in all_mols.keys():\n",
    "    if i in mad_pbehf.keys():\n",
    "        pass\n",
    "    else:\n",
    "        #print(i, \"\\t\", cmdict[i])\n",
    "        print(i)"
   ]
  },
  {
   "cell_type": "code",
   "execution_count": null,
   "id": "9dd8b1d5-906d-4e0c-bec5-65f62c777e19",
   "metadata": {},
   "outputs": [],
   "source": [
    "print(refdict[1])"
   ]
  },
  {
   "cell_type": "code",
   "execution_count": null,
   "id": "8d1cd5b8-cbda-415e-b9f2-3ac480a14a02",
   "metadata": {},
   "outputs": [],
   "source": [
    "# only for debug use\n",
    "h_pbe = -0.4999410227691473\n",
    "h_hf  = -0.4999535118271135"
   ]
  },
  {
   "cell_type": "code",
   "execution_count": null,
   "id": "f0e4dac5-80f0-41eb-978f-30b49cf5d8e4",
   "metadata": {},
   "outputs": [],
   "source": [
    "# iterate over Refdict, stoich keys lookup in madness energies dict, calc bh according to stoich, scale to kcal\n",
    "#\n",
    "# !! code does not support restart from h single electron wf, pbe@hf for h does not work\n",
    "# here, TEMPORARILY, use hf/pbe energy instead\n",
    "# error more fundamental - f- oh- also missing - CHARGE needs to be accounted for\n",
    "pbe_bh76_mad = {}\n",
    "mad_pbehf['h'] = h_hf\n",
    "for bh in refdict.keys():\n",
    "    e_bh = 0   \n",
    "    for system in refdict[bh]['Stoich'].keys():\n",
    "        stoich_fac = refdict[bh]['Stoich'][system]\n",
    "        e_bh += stoich_fac * mad_pbehf[system]\n",
    "        #print(e_bh)\n",
    "\n",
    "    print()\n",
    "    pbe_bh76_mad[bh] = e_bh * kcal\n",
    "    print(bh, pbe_bh76_mad[bh])"
   ]
  },
  {
   "cell_type": "code",
   "execution_count": null,
   "id": "0e271f3d-f653-4dda-8a9b-8f8720dbcd82",
   "metadata": {},
   "outputs": [],
   "source": [
    "e_bh = 0   \n",
    "for system in refdict[37]['Stoich'].keys():\n",
    "    stoich_fac = refdict[37]['Stoich'][system]\n",
    "    e_bh += stoich_fac * mad_pbehf[system]\n",
    "    #print(e_bh)\n",
    "\n",
    "print()\n",
    "pbe_bh76_mad[37] = e_bh * kcal\n",
    "print(37, pbe_bh76_mad[37], 48.10 - pbe_bh76_mad[37])"
   ]
  },
  {
   "cell_type": "code",
   "execution_count": null,
   "id": "f3de031f-64c1-4cd8-af1d-d6f59cdb7905",
   "metadata": {},
   "outputs": [],
   "source": [
    "# 37 is reproducible, need to figure out systems that went wrong and calc again\n",
    "# maybe also run pbe only calc for ref (background, everything here now"
   ]
  },
  {
   "cell_type": "code",
   "execution_count": null,
   "id": "930a17eb-fdb5-427a-8cf7-229460571687",
   "metadata": {},
   "outputs": [],
   "source": [
    "print(pbe_bh76_mad)"
   ]
  },
  {
   "cell_type": "code",
   "execution_count": null,
   "id": "9539beb9-bf64-4734-8079-0ab95d76b7e5",
   "metadata": {},
   "outputs": [],
   "source": [
    "for i in pbe_bh76_mad.keys():\n",
    "    print(i, pbe_bh76_mad[i] - refdict[i]['Ref'])"
   ]
  },
  {
   "cell_type": "code",
   "execution_count": null,
   "id": "e7702b98-1cbb-49cd-a6fd-e53c5badac6c",
   "metadata": {},
   "outputs": [],
   "source": [
    "# this is only slightly different (.2 ish) from LCAO - good?"
   ]
  }
 ],
 "metadata": {
  "kernelspec": {
   "display_name": "Python 3 (ipykernel)",
   "language": "python",
   "name": "python3"
  },
  "language_info": {
   "codemirror_mode": {
    "name": "ipython",
    "version": 3
   },
   "file_extension": ".py",
   "mimetype": "text/x-python",
   "name": "python",
   "nbconvert_exporter": "python",
   "pygments_lexer": "ipython3",
   "version": "3.11.5"
  }
 },
 "nbformat": 4,
 "nbformat_minor": 5
}
