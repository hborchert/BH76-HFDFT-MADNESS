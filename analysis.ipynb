{
 "cells": [
  {
   "cell_type": "code",
   "execution_count": 1,
   "id": "27fb97f1-5c2e-41e6-8bca-2b31458150fe",
   "metadata": {},
   "outputs": [],
   "source": [
    "import yaml\n",
    "import os\n",
    "import pathlib\n",
    "import json"
   ]
  },
  {
   "cell_type": "code",
   "execution_count": 2,
   "id": "aaed2fd0-3f23-46e6-a60f-f08e2f29397d",
   "metadata": {},
   "outputs": [],
   "source": [
    "refdict = yaml.load(open('BH76_ref_energies.yaml','r'), Loader=yaml.Loader)\n",
    "kcal = 627.509\n",
    "all_mols = {}"
   ]
  },
  {
   "cell_type": "code",
   "execution_count": 5,
   "id": "5a0a4cac-22db-467f-b3ae-ec8d7186870c",
   "metadata": {},
   "outputs": [],
   "source": [
    "def process_files(input_dir):\n",
    "    mad_energies = {}\n",
    "    # Iterate through the directory and its subdirectories\n",
    "    for root, dirs, files in os.walk(input_dir):\n",
    "        for dir in dirs:\n",
    "            mol_name = dir\n",
    "            all_mols[mol_name] = True\n",
    "\n",
    "        for file in files:\n",
    "            if file == \"struc.calc_info.json\": \n",
    "                \n",
    "                input_file_path = os.path.join(root, file)\n",
    "                # pbe and pbescf differ in path (geometry folder..) need to adjust this\n",
    "                mol_name = input_file_path.split('/')[6]\n",
    "\n",
    "                f = open(input_file_path)\n",
    "                data = json.load(f)\n",
    "                #print(mol_name, data['return_energy'])\n",
    "                mad_energies[mol_name] = data['return_energy']\n",
    "    \n",
    "    return mad_energies"
   ]
  },
  {
   "cell_type": "code",
   "execution_count": 4,
   "id": "237a7bac-7acf-4327-8094-5e1d79e4c7e1",
   "metadata": {},
   "outputs": [],
   "source": [
    "path = os.path.abspath(os.getcwd())\n",
    "input_directory = path+'/pbe'  # Change this to your desired input directory\n",
    "mad_pbehf = process_files(input_directory)"
   ]
  },
  {
   "cell_type": "code",
   "execution_count": 6,
   "id": "d3edf388-4596-40c8-9403-88957ef90027",
   "metadata": {},
   "outputs": [],
   "source": [
    "mad_pbescf = process_files(path+'/pbe_scf/geometries')"
   ]
  },
  {
   "cell_type": "code",
   "execution_count": 7,
   "id": "d3fc1eb6-a226-42ad-b545-09c225a7a00e",
   "metadata": {},
   "outputs": [
    {
     "name": "stdout",
     "output_type": "stream",
     "text": [
      "86\n",
      "87\n"
     ]
    }
   ],
   "source": [
    "print(len(mad_pbehf.keys()))\n",
    "print(len(mad_pbescf.keys()))"
   ]
  },
  {
   "cell_type": "code",
   "execution_count": 8,
   "id": "f6f39c1d-379f-4fc3-b5b8-6b9a5efd249b",
   "metadata": {},
   "outputs": [
    {
     "name": "stdout",
     "output_type": "stream",
     "text": [
      "MISSING: \n",
      ".ipynb_checkpoints\n"
     ]
    }
   ],
   "source": [
    "print('MISSING: ')\n",
    "cmdict = yaml.load(open('BH76_chg_2s.yaml','r'), Loader=yaml.Loader)\n",
    "for i in all_mols.keys():\n",
    "    if i in mad_pbescf.keys():\n",
    "        pass\n",
    "    else:\n",
    "        #print(i, \"\\t\", cmdict[i])\n",
    "        print(i)"
   ]
  },
  {
   "cell_type": "code",
   "execution_count": 11,
   "id": "9dd8b1d5-906d-4e0c-bec5-65f62c777e19",
   "metadata": {},
   "outputs": [],
   "source": [
    "#print(refdict[1])"
   ]
  },
  {
   "cell_type": "code",
   "execution_count": 9,
   "id": "8d1cd5b8-cbda-415e-b9f2-3ac480a14a02",
   "metadata": {},
   "outputs": [],
   "source": [
    "# only for debug use\n",
    "h_pbe = -0.4999410227691473\n",
    "h_hf  = -0.4999535118271135"
   ]
  },
  {
   "cell_type": "code",
   "execution_count": 10,
   "id": "f0e4dac5-80f0-41eb-978f-30b49cf5d8e4",
   "metadata": {},
   "outputs": [],
   "source": [
    "# iterate over Refdict, stoich keys lookup in madness energies dict, calc bh according to stoich, scale to kcal\n",
    "#\n",
    "# !! code does not support restart from h single electron wf, pbe@hf for h does not work\n",
    "# here, TEMPORARILY, use hf/pbe energy instead\n",
    "pbe_bh76_mad = {}\n",
    "mad_pbehf['h'] = h_hf\n",
    "for bh in refdict.keys():\n",
    "    e_bh = 0   \n",
    "    for system in refdict[bh]['Stoich'].keys():\n",
    "        stoich_fac = refdict[bh]['Stoich'][system]\n",
    "        e_bh += stoich_fac * mad_pbehf[system]\n",
    "        #print(e_bh)\n",
    "\n",
    "    pbe_bh76_mad[bh] = e_bh * kcal\n",
    "    #print(bh, pbe_bh76_mad[bh])"
   ]
  },
  {
   "cell_type": "code",
   "execution_count": 11,
   "id": "bba548d3-f593-44d6-a3b8-f7ffe99c019e",
   "metadata": {},
   "outputs": [],
   "source": [
    "pbescf_bh76_mad = {}\n",
    "for bh in refdict.keys():\n",
    "    e_bh = 0   \n",
    "    for system in refdict[bh]['Stoich'].keys():\n",
    "        stoich_fac = refdict[bh]['Stoich'][system]\n",
    "        e_bh += stoich_fac * mad_pbescf[system]\n",
    "        #print(e_bh)\n",
    "\n",
    "    pbescf_bh76_mad[bh] = e_bh * kcal\n",
    "    #print(bh, pbe_bh76_mad[bh])"
   ]
  },
  {
   "cell_type": "code",
   "execution_count": null,
   "id": "0e271f3d-f653-4dda-8a9b-8f8720dbcd82",
   "metadata": {},
   "outputs": [],
   "source": [
    "print(37, pbe_bh76_mad[37], 48.10 - pbe_bh76_mad[37])"
   ]
  },
  {
   "cell_type": "code",
   "execution_count": 12,
   "id": "5e1beed1-f2a5-4bd6-880c-75335964445c",
   "metadata": {},
   "outputs": [],
   "source": [
    "ref_bh, mad_pbehf_bh,mad_pbescf_bh = [], [], []\n",
    "for i in refdict.keys():\n",
    "    #print(i,'\\t', \"%.2f\" % pbe_bh76_mad[i], '\\t\\t', refdict[i]['Ref'])\n",
    "    mad_pbehf_bh.append(pbe_bh76_mad[i])\n",
    "    mad_pbescf_bh.append(pbescf_bh76_mad[i])\n",
    "    ref_bh.append(refdict[i]['Ref'])"
   ]
  },
  {
   "cell_type": "code",
   "execution_count": 13,
   "id": "9539beb9-bf64-4734-8079-0ab95d76b7e5",
   "metadata": {},
   "outputs": [],
   "source": [
    "error_bh = []\n",
    "error_bhscf = []\n",
    "\n",
    "for i in pbe_bh76_mad.keys():\n",
    "    error_bh.append(pbe_bh76_mad[i] - refdict[i]['Ref'])\n",
    "    error_bhscf.append(pbescf_bh76_mad[i] - refdict[i]['Ref'])\n",
    "    #print(i, pbe_bh76_mad[i] - refdict[i]['Ref'])\n",
    "#print(error)"
   ]
  },
  {
   "cell_type": "code",
   "execution_count": 14,
   "id": "e7702b98-1cbb-49cd-a6fd-e53c5badac6c",
   "metadata": {},
   "outputs": [
    {
     "name": "stdout",
     "output_type": "stream",
     "text": [
      "2.5227178776254644\n",
      "2.6936794610096655\n"
     ]
    }
   ],
   "source": [
    "from scipy import stats\n",
    "print(stats.median_abs_deviation(error_bh))\n",
    "print(stats.median_abs_deviation(error_bhscf))"
   ]
  },
  {
   "cell_type": "code",
   "execution_count": 15,
   "id": "0b8f56b4-5af3-4c27-b895-8fb672025410",
   "metadata": {},
   "outputs": [
    {
     "name": "stdout",
     "output_type": "stream",
     "text": [
      "-0.7150351323570919\n",
      "-8.707904125274554\n"
     ]
    }
   ],
   "source": [
    "from statistics import mean\n",
    "print(mean(error_bh))\n",
    "print(mean(error_bhscf))"
   ]
  },
  {
   "cell_type": "code",
   "execution_count": 16,
   "id": "34fff5bd-faa7-4905-952f-0d0380aec6fe",
   "metadata": {},
   "outputs": [
    {
     "name": "stdout",
     "output_type": "stream",
     "text": [
      "-7.608414624509598\n",
      "-29.76006267097823\n",
      "-15.055559339075145\n",
      "-15.055559339075145\n",
      "-8.183158871218762\n",
      "-8.183158871218762\n",
      "-12.014601435748322\n",
      "-15.749821831227898\n",
      "-10.734808480831585\n",
      "-24.977849536540347\n",
      "-12.411076961188627\n",
      "-18.361961637610385\n",
      "-4.664620273798329\n",
      "-4.664620273798329\n",
      "-5.865548964325618\n",
      "-5.865548964325618\n",
      "-5.511654847975663\n",
      "-5.511654847975663\n",
      "-6.1343334773836045\n",
      "-6.1343334773836045\n",
      "-3.715658872980214\n",
      "-7.267267230043016\n",
      "-3.6319242972206562\n",
      "-8.42457185276848\n",
      "-4.050890775941575\n",
      "-5.347449558812254\n",
      "-6.281082910467021\n",
      "-4.794412552913407\n",
      "-9.251664987928908\n",
      "-1.968285522076215\n",
      "-4.806209779959597\n",
      "1.76749927000332\n",
      "-1.9640808643996712\n",
      "-1.7128193375848824\n",
      "-4.622739628949702\n",
      "-3.074725055384345\n",
      "-2.5700907843398255\n",
      "-2.335287452213848\n",
      "-5.422824844240358\n",
      "-9.296642473073067\n",
      "-11.300609842228301\n",
      "-7.756576879092918\n",
      "-7.936613716900597\n",
      "-5.5039488215979535\n",
      "-11.486747789551277\n",
      "-10.275379721714078\n",
      "-5.952912344013283\n",
      "-5.952912344013283\n",
      "-14.901661788114705\n",
      "-14.139303808974033\n",
      "-7.271117961998344\n",
      "-8.712270695540113\n",
      "-12.043563485636012\n",
      "-9.294272086849595\n",
      "-14.140864826336356\n",
      "-8.77752320753514\n",
      "-14.510664111889618\n",
      "-9.104018382718534\n",
      "-4.451830544221052\n",
      "-6.374621274012281\n",
      "-7.053606297473225\n",
      "-14.792916921953083\n",
      "-4.892780812036164\n",
      "-7.805290076086486\n",
      "-20.384599882493617\n",
      "-16.419106886846464\n",
      "-7.876241678293345\n",
      "-11.159100089580718\n",
      "-6.566502826031048\n",
      "-11.58728456828101\n",
      "-9.566387197210522\n",
      "-7.479453777582613\n",
      "-9.240850367200423\n",
      "-8.891840278512808\n",
      "-8.488929995432084\n",
      "-8.488929995432084\n"
     ]
    }
   ],
   "source": [
    "#for i in error_bhscf:\n",
    "#    print(i)"
   ]
  },
  {
   "cell_type": "code",
   "execution_count": null,
   "id": "282122e2-1287-4f8b-9ff8-b954279b2ee5",
   "metadata": {},
   "outputs": [],
   "source": []
  }
 ],
 "metadata": {
  "kernelspec": {
   "display_name": "Python 3 (ipykernel)",
   "language": "python",
   "name": "python3"
  },
  "language_info": {
   "codemirror_mode": {
    "name": "ipython",
    "version": 3
   },
   "file_extension": ".py",
   "mimetype": "text/x-python",
   "name": "python",
   "nbconvert_exporter": "python",
   "pygments_lexer": "ipython3",
   "version": "3.11.5"
  }
 },
 "nbformat": 4,
 "nbformat_minor": 5
}
