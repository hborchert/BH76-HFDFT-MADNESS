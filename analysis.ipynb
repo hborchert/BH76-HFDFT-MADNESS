{
 "cells": [
  {
   "cell_type": "code",
   "execution_count": 1,
   "id": "27fb97f1-5c2e-41e6-8bca-2b31458150fe",
   "metadata": {},
   "outputs": [],
   "source": [
    "import yaml\n",
    "import os\n",
    "import pathlib\n",
    "import json"
   ]
  },
  {
   "cell_type": "code",
   "execution_count": 2,
   "id": "aaed2fd0-3f23-46e6-a60f-f08e2f29397d",
   "metadata": {},
   "outputs": [],
   "source": [
    "refdict = yaml.load(open('BH76_ref_energies.yaml','r'), Loader=yaml.Loader)\n",
    "kcal = 627.509\n",
    "all_mols = {}"
   ]
  },
  {
   "cell_type": "code",
   "execution_count": 3,
   "id": "5a0a4cac-22db-467f-b3ae-ec8d7186870c",
   "metadata": {},
   "outputs": [],
   "source": [
    "def process_files(input_dir):\n",
    "    mad_energies = {}\n",
    "    # Iterate through the directory and its subdirectories\n",
    "    for root, dirs, files in os.walk(input_dir):\n",
    "        for dir in dirs:\n",
    "            mol_name = dir\n",
    "            all_mols[mol_name] = True\n",
    "\n",
    "        for file in files:\n",
    "            if file == \"struc.calc_info.json\": \n",
    "                \n",
    "                input_file_path = os.path.join(root, file)\n",
    "                # pbe and pbescf differ in path (geometry folder..) need to adjust this\n",
    "                mol_name = input_file_path.split('/')[5]\n",
    "\n",
    "                f = open(input_file_path)\n",
    "                data = json.load(f)\n",
    "                #print(mol_name, data['return_energy'])\n",
    "                mad_energies[mol_name] = data['return_energy']\n",
    "    \n",
    "    return mad_energies"
   ]
  },
  {
   "cell_type": "code",
   "execution_count": 4,
   "id": "237a7bac-7acf-4327-8094-5e1d79e4c7e1",
   "metadata": {},
   "outputs": [],
   "source": [
    "path = os.path.abspath(os.getcwd())\n",
    "input_directory = path+'/pbe'  # Change this to your desired input directory\n",
    "mad_pbehf = process_files(input_directory)"
   ]
  },
  {
   "cell_type": "code",
   "execution_count": 6,
   "id": "635455dc-28c3-41c2-a2d1-f20b4ca25499",
   "metadata": {},
   "outputs": [],
   "source": [
    "# just replace 5 by 6 in def above, ugly... but allows to run current version in one go\n",
    "def process_files(input_dir):\n",
    "    mad_energies = {}\n",
    "    # Iterate through the directory and its subdirectories\n",
    "    for root, dirs, files in os.walk(input_dir):\n",
    "        for dir in dirs:\n",
    "            mol_name = dir\n",
    "            all_mols[mol_name] = True\n",
    "\n",
    "        for file in files:\n",
    "            if file == \"struc.calc_info.json\": \n",
    "                \n",
    "                input_file_path = os.path.join(root, file)\n",
    "                # pbe and pbescf differ in path (geometry folder..) need to adjust this\n",
    "                mol_name = input_file_path.split('/')[6]\n",
    "\n",
    "                f = open(input_file_path)\n",
    "                data = json.load(f)\n",
    "                #print(mol_name, data['return_energy'])\n",
    "                mad_energies[mol_name] = data['return_energy']\n",
    "    \n",
    "    return mad_energies"
   ]
  },
  {
   "cell_type": "code",
   "execution_count": 7,
   "id": "d3edf388-4596-40c8-9403-88957ef90027",
   "metadata": {},
   "outputs": [],
   "source": [
    "mad_pbescf = process_files(path+'/pbe_scf/geometries')"
   ]
  },
  {
   "cell_type": "code",
   "execution_count": 8,
   "id": "d3fc1eb6-a226-42ad-b545-09c225a7a00e",
   "metadata": {},
   "outputs": [
    {
     "name": "stdout",
     "output_type": "stream",
     "text": [
      "86\n",
      "87\n"
     ]
    }
   ],
   "source": [
    "print(len(mad_pbehf.keys()))\n",
    "print(len(mad_pbescf.keys()))"
   ]
  },
  {
   "cell_type": "code",
   "execution_count": 9,
   "id": "f6f39c1d-379f-4fc3-b5b8-6b9a5efd249b",
   "metadata": {},
   "outputs": [
    {
     "name": "stdout",
     "output_type": "stream",
     "text": [
      "MISSING: \n",
      ".ipynb_checkpoints\n"
     ]
    }
   ],
   "source": [
    "print('MISSING: ')\n",
    "cmdict = yaml.load(open('BH76_chg_2s.yaml','r'), Loader=yaml.Loader)\n",
    "for i in all_mols.keys():\n",
    "    if i in mad_pbescf.keys():\n",
    "        pass\n",
    "    else:\n",
    "        #print(i, \"\\t\", cmdict[i])\n",
    "        print(i)"
   ]
  },
  {
   "cell_type": "code",
   "execution_count": 10,
   "id": "9dd8b1d5-906d-4e0c-bec5-65f62c777e19",
   "metadata": {},
   "outputs": [],
   "source": [
    "#print(refdict[1])"
   ]
  },
  {
   "cell_type": "code",
   "execution_count": 11,
   "id": "8d1cd5b8-cbda-415e-b9f2-3ac480a14a02",
   "metadata": {},
   "outputs": [],
   "source": [
    "# only for debug use\n",
    "h_pbe = -0.4999410227691473\n",
    "h_hf  = -0.4999535118271135"
   ]
  },
  {
   "cell_type": "code",
   "execution_count": 12,
   "id": "f0e4dac5-80f0-41eb-978f-30b49cf5d8e4",
   "metadata": {},
   "outputs": [],
   "source": [
    "# iterate over Refdict, stoich keys lookup in madness energies dict, calc bh according to stoich, scale to kcal\n",
    "#\n",
    "# !! code does not support restart from h single electron wf, pbe@hf for h does not work\n",
    "# here, TEMPORARILY, use hf/pbe energy instead\n",
    "pbe_bh76_mad = {}\n",
    "mad_pbehf['h'] = h_hf\n",
    "for bh in refdict.keys():\n",
    "    e_bh = 0   \n",
    "    for system in refdict[bh]['Stoich'].keys():\n",
    "        stoich_fac = refdict[bh]['Stoich'][system]\n",
    "        e_bh += stoich_fac * mad_pbehf[system]\n",
    "        #print(e_bh)\n",
    "\n",
    "    pbe_bh76_mad[bh] = e_bh * kcal\n",
    "    #print(bh, pbe_bh76_mad[bh])"
   ]
  },
  {
   "cell_type": "code",
   "execution_count": 13,
   "id": "bba548d3-f593-44d6-a3b8-f7ffe99c019e",
   "metadata": {},
   "outputs": [],
   "source": [
    "pbescf_bh76_mad = {}\n",
    "for bh in refdict.keys():\n",
    "    e_bh = 0   \n",
    "    for system in refdict[bh]['Stoich'].keys():\n",
    "        stoich_fac = refdict[bh]['Stoich'][system]\n",
    "        e_bh += stoich_fac * mad_pbescf[system]\n",
    "        #print(e_bh)\n",
    "\n",
    "    pbescf_bh76_mad[bh] = e_bh * kcal\n",
    "    #print(bh, pbe_bh76_mad[bh])"
   ]
  },
  {
   "cell_type": "code",
   "execution_count": 14,
   "id": "0e271f3d-f653-4dda-8a9b-8f8720dbcd82",
   "metadata": {},
   "outputs": [
    {
     "name": "stdout",
     "output_type": "stream",
     "text": [
      "37 47.62230232638348 0.47769767361651816\n"
     ]
    }
   ],
   "source": [
    "print(37, pbe_bh76_mad[37], 48.10 - pbe_bh76_mad[37])"
   ]
  },
  {
   "cell_type": "code",
   "execution_count": 15,
   "id": "5e1beed1-f2a5-4bd6-880c-75335964445c",
   "metadata": {},
   "outputs": [],
   "source": [
    "ref_bh, mad_pbehf_bh,mad_pbescf_bh = [], [], []\n",
    "for i in refdict.keys():\n",
    "    #print(i,'\\t', \"%.2f\" % pbe_bh76_mad[i], '\\t\\t', refdict[i]['Ref'])\n",
    "    mad_pbehf_bh.append(pbe_bh76_mad[i])\n",
    "    mad_pbescf_bh.append(pbescf_bh76_mad[i])\n",
    "    ref_bh.append(refdict[i]['Ref'])"
   ]
  },
  {
   "cell_type": "code",
   "execution_count": 16,
   "id": "9539beb9-bf64-4734-8079-0ab95d76b7e5",
   "metadata": {},
   "outputs": [],
   "source": [
    "error_bh = []\n",
    "error_bhscf = []\n",
    "\n",
    "for i in pbe_bh76_mad.keys():\n",
    "    error_bh.append(pbe_bh76_mad[i] - refdict[i]['Ref'])\n",
    "    error_bhscf.append(pbescf_bh76_mad[i] - refdict[i]['Ref'])\n",
    "    #print(i, pbe_bh76_mad[i] - refdict[i]['Ref'])\n",
    "#print(error)"
   ]
  },
  {
   "cell_type": "code",
   "execution_count": 17,
   "id": "e7702b98-1cbb-49cd-a6fd-e53c5badac6c",
   "metadata": {},
   "outputs": [
    {
     "name": "stdout",
     "output_type": "stream",
     "text": [
      "2.5227178776254644\n",
      "2.6936794610096655\n"
     ]
    }
   ],
   "source": [
    "from scipy import stats\n",
    "print(stats.median_abs_deviation(error_bh))\n",
    "print(stats.median_abs_deviation(error_bhscf))"
   ]
  },
  {
   "cell_type": "code",
   "execution_count": 18,
   "id": "0b8f56b4-5af3-4c27-b895-8fb672025410",
   "metadata": {},
   "outputs": [
    {
     "name": "stdout",
     "output_type": "stream",
     "text": [
      "-0.7150351323570919\n",
      "-8.707904125274554\n"
     ]
    }
   ],
   "source": [
    "from statistics import mean\n",
    "print(mean(error_bh))\n",
    "print(mean(error_bhscf))"
   ]
  },
  {
   "cell_type": "code",
   "execution_count": 19,
   "id": "34fff5bd-faa7-4905-952f-0d0380aec6fe",
   "metadata": {},
   "outputs": [],
   "source": [
    "#for i in error_bhscf:\n",
    "#    print(i)"
   ]
  },
  {
   "cell_type": "code",
   "execution_count": 43,
   "id": "282122e2-1287-4f8b-9ff8-b954279b2ee5",
   "metadata": {},
   "outputs": [],
   "source": [
    "import pandas as pd"
   ]
  },
  {
   "cell_type": "code",
   "execution_count": 44,
   "id": "2ef80510-6ad7-4fd2-abd7-18af170d3254",
   "metadata": {},
   "outputs": [],
   "source": [
    "reactions = open('reactions.txt', 'r')\n",
    "rct_string = reactions.readlines()"
   ]
  },
  {
   "cell_type": "code",
   "execution_count": 45,
   "id": "bd0a3689-85f6-4603-a615-322ac7a5860e",
   "metadata": {},
   "outputs": [],
   "source": [
    "a = []\n",
    "for i in rct_string:\n",
    "    a.append(i.replace(\"\\n\", \"\"))\n",
    "for i in range(len(a)):\n",
    "    if i % 2 == 0:\n",
    "        a[i] = \"\\ce{\"+a[i]+\"}\""
   ]
  },
  {
   "cell_type": "code",
   "execution_count": 46,
   "id": "71e0f52e-fbc8-4213-a2a4-779e0c46bef9",
   "metadata": {},
   "outputs": [],
   "source": [
    "#mad_pbehf_bh\n",
    "#mad_pbescf_bh\n",
    "table1 = pd.DataFrame(list(zip(a, ref_bh, error_bhscf, error_bh)), columns = ['Reaction', 'Exact', 'SCF', 'HF-DFT'], index=refdict.keys())\n",
    "table1['SCF'] = table1['SCF'].apply(lambda x: round(x, 2))\n",
    "table1['HF-DFT'] = table1['HF-DFT'].apply(lambda x: round(x, 2))\n"
   ]
  },
  {
   "cell_type": "code",
   "execution_count": 47,
   "id": "93c121f8-e3e4-4728-9ffc-79f768e90240",
   "metadata": {},
   "outputs": [
    {
     "name": "stdout",
     "output_type": "stream",
     "text": [
      "                                            Reaction  Exact    SCF  HF-DFT\n",
      "1                         \\ce{H + N 2 O -> N 2 + OH}   17.7  -7.61    4.21\n",
      "2                                          1 reverse   82.6 -29.76   -9.98\n",
      "3                              \\ce{H + HF -> HF + H}   42.1 -15.06  -11.26\n",
      "4                                          3 reverse   42.1 -15.06  -11.26\n",
      "5                            \\ce{H + HCl -> HCl + H}   17.8  -8.18   -3.73\n",
      "..                                               ...    ...    ...     ...\n",
      "72                                        71 reverse   17.8  -7.48   -1.54\n",
      "73                   \\ce{NH 2 + CH 4 -> NH 3 + CH 3}   13.9  -9.24   -3.99\n",
      "74                                        73 reverse   16.9  -8.89   -2.83\n",
      "75  \\ce{s-trans cis-C 5 H 8 -> s-trans cis-C 5 H 8 }   39.7  -8.49  -10.19\n",
      "76                                        75 reverse   39.7  -8.49  -10.19\n",
      "\n",
      "[76 rows x 4 columns]\n"
     ]
    }
   ],
   "source": [
    "print(table1)"
   ]
  },
  {
   "cell_type": "code",
   "execution_count": 48,
   "id": "0645f623-e488-40f4-af8e-68b18ca80fa4",
   "metadata": {},
   "outputs": [
    {
     "name": "stdout",
     "output_type": "stream",
     "text": [
      "\\begin{tabular}{llrrr}\n",
      "\\toprule\n",
      " & Reaction & Exact & SCF & HF-DFT \\\\\n",
      "\\midrule\n",
      "1 & \\ce{H + N 2 O -> N 2 + OH} & 17.70 & -7.61 & 4.21 \\\\\n",
      "2 & 1 reverse & 82.60 & -29.76 & -9.98 \\\\\n",
      "3 & \\ce{H + HF -> HF + H} & 42.10 & -15.06 & -11.26 \\\\\n",
      "4 & 3 reverse & 42.10 & -15.06 & -11.26 \\\\\n",
      "5 & \\ce{H + HCl -> HCl + H} & 17.80 & -8.18 & -3.73 \\\\\n",
      "6 & 5 reverse & 17.80 & -8.18 & -3.73 \\\\\n",
      "7 & \\ce{CH 3 F + H -> CH 3 + HF} & 30.50 & -12.01 & -5.93 \\\\\n",
      "8 & 7 reverse & 56.90 & -15.75 & -6.61 \\\\\n",
      "9 & \\ce{F 2 + H -> F + HF} & 1.50 & -10.73 & 24.85 \\\\\n",
      "10 & 9 reverse & 104.80 & -24.98 & 14.88 \\\\\n",
      "11 & \\ce{CH 3 + ClF -> CH 3 F + Cl} & 7.10 & -12.41 & 6.62 \\\\\n",
      "12 & 11 reverse & 59.80 & -18.36 & 2.20 \\\\\n",
      "13 & \\ce{CH 3 F + F - -> FCH 3 + F -} & -0.60 & -4.66 & 3.82 \\\\\n",
      "14 & 13 reverse & -0.60 & -4.66 & 3.82 \\\\\n",
      "15 & \\ce{CH 3 F . . . F - -> FCH 3 . . . F -} & 13.40 & -5.87 & 1.29 \\\\\n",
      "16 & 15 reverse & 13.40 & -5.87 & 1.29 \\\\\n",
      "17 & \\ce{CH 3 Cl + Cl - -> ClCH 3 + Cl -} & 2.50 & -5.51 & 3.11 \\\\\n",
      "18 & 17 reverse & 2.50 & -5.51 & 3.11 \\\\\n",
      "19 & \\ce{CH 3 Cl . . . Cl - -> ClCH 3 . . . Cl -} & 13.50 & -6.13 & 1.13 \\\\\n",
      "20 & 19 reverse & 13.50 & -6.13 & 1.13 \\\\\n",
      "21 & \\ce{CH 3 Cl + F - -> CH 3 F + Cl -} & -12.30 & -3.72 & 3.83 \\\\\n",
      "22 & 21 reverse & 19.80 & -7.27 & 2.63 \\\\\n",
      "23 & \\ce{F - . . . CH 3 Cl -> CH 3 F . . . Cl -} & 3.50 & -3.63 & 1.31 \\\\\n",
      "24 & 23 reverse & 29.60 & -8.42 & 0.66 \\\\\n",
      "25 & \\ce{CH 3 F + OH - -> HOCH 3 + F -} & -2.70 & -4.05 & 3.55 \\\\\n",
      "26 & 25 reverse & 17.60 & -5.35 & 3.34 \\\\\n",
      "27 & \\ce{CH 3 F . . . OH - -> HOCH 3 . . . F -} & 11.00 & -6.28 & 1.02 \\\\\n",
      "28 & 27 reverse & 47.70 & -4.79 & 2.76 \\\\\n",
      "29 & \\ce{H + N 2 -> HN 2} & 14.60 & -9.25 & 1.34 \\\\\n",
      "30 & 29 reverse & 10.90 & -1.97 & -1.17 \\\\\n",
      "31 & \\ce{H + CO -> HCO} & 3.20 & -4.81 & -0.76 \\\\\n",
      "32 & 31 reverse & 22.80 & 1.77 & 3.47 \\\\\n",
      "33 & \\ce{H + C 2 H 4 -> CH 3 CH 2} & 2.00 & -1.96 & 4.32 \\\\\n",
      "34 & 33 reverse & 42.00 & -1.71 & 4.36 \\\\\n",
      "35 & \\ce{C 2 H 4 + CH 3 -> CH 3 CH 2 CH 2} & 6.40 & -4.62 & 4.62 \\\\\n",
      "36 & 35 reverse & 33.00 & -3.07 & 4.72 \\\\\n",
      "37 & \\ce{HCN -> HNC} & 48.10 & -2.57 & -0.48 \\\\\n",
      "38 & 37 reverse & 33.00 & -2.34 & -0.26 \\\\\n",
      "39 & \\ce{H + HCl -> H 2 + Cl} & 6.10 & -5.42 & -1.36 \\\\\n",
      "40 & 39 reverse & 8.00 & -9.30 & -5.42 \\\\\n",
      "41 & \\ce{OH + H 2 -> H + H 2 O} & 5.20 & -11.30 & -2.60 \\\\\n",
      "42 & 41 reverse & 21.60 & -7.76 & 1.08 \\\\\n",
      "43 & \\ce{CH 3 + H 2 -> CH 4 + H} & 11.90 & -7.94 & -4.36 \\\\\n",
      "44 & 43 reverse & 15.00 & -5.50 & -2.35 \\\\\n",
      "45 & \\ce{CH 4 + OH -> CH 3 + H 2 O} & 6.30 & -11.49 & -3.05 \\\\\n",
      "46 & 45 reverse & 19.50 & -10.28 & -1.27 \\\\\n",
      "47 & \\ce{H 2 + H -> H + H 2} & 9.70 & -5.95 & -3.57 \\\\\n",
      "48 & 47 reverse & 9.70 & -5.95 & -3.57 \\\\\n",
      "49 & \\ce{NH 3 + OH -> NH 2 + H 2 O} & 3.40 & -14.90 & -2.74 \\\\\n",
      "50 & 49 reverse & 13.70 & -14.14 & -2.21 \\\\\n",
      "51 & \\ce{CH 3 + HCl -> CH 4 + Cl} & 1.80 & -7.27 & -3.05 \\\\\n",
      "52 & 51 reverse & 6.80 & -8.71 & -5.10 \\\\\n",
      "53 & \\ce{C 2 H 6 + OH -> C 2 H 5 + H 2 O} & 3.50 & -12.04 & -1.76 \\\\\n",
      "54 & 53 reverse & 20.40 & -9.29 & 0.70 \\\\\n",
      "55 & \\ce{F + H 2 -> H + HF} & 1.60 & -14.14 & -0.71 \\\\\n",
      "56 & 55 reverse & 33.80 & -8.78 & 4.19 \\\\\n",
      "57 & \\ce{O + CH 4 -> OH + CH 3} & 14.40 & -14.51 & -7.27 \\\\\n",
      "58 & 57 reverse & 8.90 & -9.10 & -2.16 \\\\\n",
      "59 & \\ce{H + PH 3 -> H 2 + PH 2} & 2.90 & -4.45 & -1.41 \\\\\n",
      "60 & 59 reverse & 24.70 & -6.37 & -2.64 \\\\\n",
      "61 & \\ce{H + OH -> O + H 2} & 10.90 & -7.05 & -0.48 \\\\\n",
      "62 & 61 reverse & 13.20 & -14.79 & -7.49 \\\\\n",
      "63 & \\ce{H + H 2 S -> H 2 + HS} & 3.90 & -4.89 & -1.87 \\\\\n",
      "64 & 63 reverse & 17.20 & -7.81 & -4.53 \\\\\n",
      "65 & \\ce{O + HCl -> OH + Cl} & 10.40 & -20.38 & -2.27 \\\\\n",
      "66 & 65 reverse & 9.90 & -16.42 & 0.78 \\\\\n",
      "67 & \\ce{NH 2 + CH 3 -> NH + CH 4} & 8.90 & -7.88 & -1.84 \\\\\n",
      "68 & 67 reverse & 22.00 & -11.16 & -5.61 \\\\\n",
      "69 & \\ce{NH 2 + C 2 H 5 -> NH + C 2 H 6} & 9.80 & -6.57 & -0.83 \\\\\n",
      "70 & 69 reverse & 19.40 & -11.59 & -5.48 \\\\\n",
      "71 & \\ce{NH 2 + C 2 H 6 -> NH 3 + C 2 H 5} & 11.30 & -9.57 & -3.57 \\\\\n",
      "72 & 71 reverse & 17.80 & -7.48 & -1.54 \\\\\n",
      "73 & \\ce{NH 2 + CH 4 -> NH 3 + CH 3} & 13.90 & -9.24 & -3.99 \\\\\n",
      "74 & 73 reverse & 16.90 & -8.89 & -2.83 \\\\\n",
      "75 & \\ce{s-trans cis-C 5 H 8 -> s-trans cis-C 5 H 8 } & 39.70 & -8.49 & -10.19 \\\\\n",
      "76 & 75 reverse & 39.70 & -8.49 & -10.19 \\\\\n",
      "\\bottomrule\n",
      "\\end{tabular}\n",
      "\n"
     ]
    }
   ],
   "source": [
    "print(table1.to_latex(float_format=\"%.2f\"))"
   ]
  },
  {
   "cell_type": "code",
   "execution_count": 63,
   "id": "12e1855d-a124-4112-8275-857d9a50444a",
   "metadata": {},
   "outputs": [],
   "source": [
    "scf_ref = open('lcao_bh_scf_pbe.txt', 'r')\n",
    "scfref_string = scf_ref.readlines()\n",
    "lcao_scf = []\n",
    "for i in scfref_string:\n",
    "    lcao_scf.append(float(i.replace(\"\\n\",\"\")))"
   ]
  },
  {
   "cell_type": "code",
   "execution_count": 71,
   "id": "709ff616-368b-4ea0-94ee-4259fd1f1840",
   "metadata": {},
   "outputs": [],
   "source": [
    "hfdft_ref = open('lcao_bh_hfdft_pbe.txt', 'r')\n",
    "hfdftref_string = hfdft_ref.readlines()\n",
    "lcao_hfdft = []\n",
    "for i in hfdftref_string:\n",
    "    lcao_hfdft.append(float(i.replace(\"\\n\",\"\")))"
   ]
  },
  {
   "cell_type": "code",
   "execution_count": 87,
   "id": "91f415ba-d152-4892-a2d2-c7e48e7a5ee4",
   "metadata": {},
   "outputs": [
    {
     "name": "stdout",
     "output_type": "stream",
     "text": [
      "-1.44 0.34\n"
     ]
    }
   ],
   "source": [
    "scf_diff = []\n",
    "for i,j in zip(lcao_scf,error_bhscf):\n",
    "    scf_diff.append(round((i-j),2))\n",
    "print(min(scf_diff), max(scf_diff))"
   ]
  },
  {
   "cell_type": "code",
   "execution_count": 88,
   "id": "209fb81e-fb7b-4bc9-8474-5fb9f0ca5e5c",
   "metadata": {},
   "outputs": [
    {
     "name": "stdout",
     "output_type": "stream",
     "text": [
      "-1.0 0.22\n"
     ]
    }
   ],
   "source": [
    "hfdft_diff = []\n",
    "for i,j in zip(lcao_hfdft,error_bh):\n",
    "    hfdft_diff.append(round((i-j),2))\n",
    "print(min(hfdft_diff), max(hfdft_diff))"
   ]
  },
  {
   "cell_type": "code",
   "execution_count": 73,
   "id": "c76416d5-d3b6-4823-83af-79d82d7b3ec2",
   "metadata": {},
   "outputs": [],
   "source": [
    "error_diff = pd.DataFrame(list(zip(a, scf_diff, hfdft_diff)), columns = ['Reaction', 'SCF', 'HF-DFT'], index=refdict.keys())"
   ]
  },
  {
   "cell_type": "code",
   "execution_count": 74,
   "id": "242993b9-777a-4e2d-b152-fd23d76f1c09",
   "metadata": {},
   "outputs": [
    {
     "name": "stdout",
     "output_type": "stream",
     "text": [
      "                                            Reaction   SCF  HF-DFT\n",
      "1                         \\ce{H + N 2 O -> N 2 + OH} -0.14   -0.32\n",
      "2                                          1 reverse -0.03    0.15\n",
      "3                              \\ce{H + HF -> HF + H} -0.09   -0.42\n",
      "4                                          3 reverse -0.09   -0.42\n",
      "5                            \\ce{H + HCl -> HCl + H}  0.34    0.11\n",
      "..                                               ...   ...     ...\n",
      "72                                        71 reverse -0.14   -0.10\n",
      "73                   \\ce{NH 2 + CH 4 -> NH 3 + CH 3} -0.13   -0.08\n",
      "74                                        73 reverse -0.18   -0.10\n",
      "75  \\ce{s-trans cis-C 5 H 8 -> s-trans cis-C 5 H 8 } -0.04   -0.09\n",
      "76                                        75 reverse -0.04   -0.09\n",
      "\n",
      "[76 rows x 3 columns]\n"
     ]
    }
   ],
   "source": [
    "print(error_diff)"
   ]
  },
  {
   "cell_type": "code",
   "execution_count": 77,
   "id": "c1096c72-631f-4b38-8546-a5c04b4ee4ed",
   "metadata": {
    "scrolled": true
   },
   "outputs": [
    {
     "name": "stdout",
     "output_type": "stream",
     "text": [
      "\\begin{tabular}{llrr}\n",
      "\\toprule\n",
      " & Reaction & SCF & HF-DFT \\\\\n",
      "\\midrule\n",
      "1 & \\ce{H + N 2 O -> N 2 + OH} & -0.14 & -0.32 \\\\\n",
      "2 & 1 reverse & -0.03 & 0.15 \\\\\n",
      "3 & \\ce{H + HF -> HF + H} & -0.09 & -0.42 \\\\\n",
      "4 & 3 reverse & -0.09 & -0.42 \\\\\n",
      "5 & \\ce{H + HCl -> HCl + H} & 0.34 & 0.11 \\\\\n",
      "6 & 5 reverse & 0.34 & 0.11 \\\\\n",
      "7 & \\ce{CH 3 F + H -> CH 3 + HF} & -0.22 & -0.49 \\\\\n",
      "8 & 7 reverse & -0.14 & -0.11 \\\\\n",
      "9 & \\ce{F 2 + H -> F + HF} & -0.27 & -0.75 \\\\\n",
      "10 & 9 reverse & -0.12 & -0.40 \\\\\n",
      "11 & \\ce{CH 3 + ClF -> CH 3 F + Cl} & -0.62 & -0.57 \\\\\n",
      "12 & 11 reverse & 0.33 & 0.22 \\\\\n",
      "13 & \\ce{CH 3 F + F - -> FCH 3 + F -} & -0.66 & -0.17 \\\\\n",
      "14 & 13 reverse & -0.66 & -0.17 \\\\\n",
      "15 & \\ce{CH 3 F . . . F - -> FCH 3 . . . F -} & -0.13 & -0.07 \\\\\n",
      "16 & 15 reverse & -0.13 & -0.07 \\\\\n",
      "17 & \\ce{CH 3 Cl + Cl - -> ClCH 3 + Cl -} & -0.41 & -0.41 \\\\\n",
      "18 & 17 reverse & -0.41 & -0.41 \\\\\n",
      "19 & \\ce{CH 3 Cl . . . Cl - -> ClCH 3 . . . Cl -} & -0.31 & -0.29 \\\\\n",
      "20 & 19 reverse & -0.31 & -0.29 \\\\\n",
      "21 & \\ce{CH 3 Cl + F - -> CH 3 F + Cl -} & -0.92 & -0.48 \\\\\n",
      "22 & 21 reverse & 0.02 & -0.12 \\\\\n",
      "23 & \\ce{F - . . . CH 3 Cl -> CH 3 F . . . Cl -} & -0.29 & -0.27 \\\\\n",
      "24 & 23 reverse & 0.07 & -0.06 \\\\\n",
      "25 & \\ce{CH 3 F + OH - -> HOCH 3 + F -} & -1.44 & -0.31 \\\\\n",
      "26 & 25 reverse & -0.61 & -0.14 \\\\\n",
      "27 & \\ce{CH 3 F . . . OH - -> HOCH 3 . . . F -} & -0.25 & -0.11 \\\\\n",
      "28 & 27 reverse & -0.02 & -0.09 \\\\\n",
      "29 & \\ce{H + N 2 -> HN 2} & -0.17 & -0.46 \\\\\n",
      "30 & 29 reverse & 0.05 & -0.27 \\\\\n",
      "31 & \\ce{H + CO -> HCO} & -0.17 & -0.50 \\\\\n",
      "32 & 31 reverse & -0.02 & -0.14 \\\\\n",
      "33 & \\ce{H + C 2 H 4 -> CH 3 CH 2} & -0.20 & -0.56 \\\\\n",
      "34 & 33 reverse & 0.00 & -0.21 \\\\\n",
      "35 & \\ce{C 2 H 4 + CH 3 -> CH 3 CH 2 CH 2} & -0.24 & -0.17 \\\\\n",
      "36 & 35 reverse & -0.10 & -0.15 \\\\\n",
      "37 & \\ce{HCN -> HNC} & 0.03 & -0.03 \\\\\n",
      "38 & 37 reverse & 0.02 & -0.05 \\\\\n",
      "39 & \\ce{H + HCl -> H 2 + Cl} & -0.36 & -0.61 \\\\\n",
      "40 & 39 reverse & 0.06 & 0.10 \\\\\n",
      "41 & \\ce{OH + H 2 -> H + H 2 O} & -0.10 & -0.03 \\\\\n",
      "42 & 41 reverse & -0.22 & -0.44 \\\\\n",
      "43 & \\ce{CH 3 + H 2 -> CH 4 + H} & -0.12 & -0.02 \\\\\n",
      "44 & 43 reverse & -0.21 & -0.42 \\\\\n",
      "45 & \\ce{CH 4 + OH -> CH 3 + H 2 O} & -0.12 & -0.05 \\\\\n",
      "46 & 45 reverse & -0.17 & -0.07 \\\\\n",
      "47 & \\ce{H 2 + H -> H + H 2} & -0.08 & -0.37 \\\\\n",
      "48 & 47 reverse & -0.08 & -0.37 \\\\\n",
      "49 & \\ce{NH 3 + OH -> NH 2 + H 2 O} & -0.10 & 0.22 \\\\\n",
      "50 & 49 reverse & -0.11 & 0.21 \\\\\n",
      "51 & \\ce{CH 3 + HCl -> CH 4 + Cl} & -0.32 & -0.24 \\\\\n",
      "52 & 51 reverse & 0.00 & 0.08 \\\\\n",
      "53 & \\ce{C 2 H 6 + OH -> C 2 H 5 + H 2 O} & -0.13 & -0.02 \\\\\n",
      "54 & 53 reverse & -0.15 & -0.08 \\\\\n",
      "55 & \\ce{F + H 2 -> H + HF} & -0.14 & 0.01 \\\\\n",
      "56 & 55 reverse & -0.23 & -0.39 \\\\\n",
      "57 & \\ce{O + CH 4 -> OH + CH 3} & -0.19 & -0.04 \\\\\n",
      "58 & 57 reverse & -0.19 & -0.06 \\\\\n",
      "59 & \\ce{H + PH 3 -> H 2 + PH 2} & -0.21 & -0.50 \\\\\n",
      "60 & 59 reverse & 0.10 & 0.13 \\\\\n",
      "61 & \\ce{H + OH -> O + H 2} & -0.14 & -0.43 \\\\\n",
      "62 & 61 reverse & -0.06 & -0.02 \\\\\n",
      "63 & \\ce{H + H 2 S -> H 2 + HS} & -0.24 & -0.55 \\\\\n",
      "64 & 63 reverse & 0.17 & 0.15 \\\\\n",
      "65 & \\ce{O + HCl -> OH + Cl} & -0.36 & -1.00 \\\\\n",
      "66 & 65 reverse & -0.03 & -0.69 \\\\\n",
      "67 & \\ce{NH 2 + CH 3 -> NH + CH 4} & -0.18 & -0.13 \\\\\n",
      "68 & 67 reverse & -0.17 & -0.09 \\\\\n",
      "69 & \\ce{NH 2 + C 2 H 5 -> NH + C 2 H 6} & -0.16 & -0.13 \\\\\n",
      "70 & 69 reverse & -0.18 & -0.06 \\\\\n",
      "71 & \\ce{NH 2 + C 2 H 6 -> NH 3 + C 2 H 5} & -0.13 & -0.05 \\\\\n",
      "72 & 71 reverse & -0.14 & -0.10 \\\\\n",
      "73 & \\ce{NH 2 + CH 4 -> NH 3 + CH 3} & -0.13 & -0.08 \\\\\n",
      "74 & 73 reverse & -0.18 & -0.10 \\\\\n",
      "75 & \\ce{s-trans cis-C 5 H 8 -> s-trans cis-C 5 H 8 } & -0.04 & -0.09 \\\\\n",
      "76 & 75 reverse & -0.04 & -0.09 \\\\\n",
      "\\bottomrule\n",
      "\\end{tabular}\n",
      "\n"
     ]
    }
   ],
   "source": [
    "print(error_diff.to_latex(float_format=\"%.2f\"))"
   ]
  },
  {
   "cell_type": "code",
   "execution_count": 83,
   "id": "271ec210-27d5-48ad-a8af-8c58bb3a46f3",
   "metadata": {},
   "outputs": [],
   "source": [
    "scf_winner = []\n",
    "lcao_counter = 0\n",
    "mra_counter = 0\n",
    "for i,j in zip(lcao_scf,error_bhscf):\n",
    "    if abs(i) < abs(j):\n",
    "        scf_winner.append('LCAO')\n",
    "        lcao_counter +=1\n",
    "    elif abs(i) > abs(j):\n",
    "        scf_winner.append('MRA')\n",
    "        mra_counter +=1\n",
    "    else:\n",
    "        scf_winner.append('draw')"
   ]
  },
  {
   "cell_type": "code",
   "execution_count": 84,
   "id": "46a77a4e-c226-497c-a7a2-e64601658acc",
   "metadata": {},
   "outputs": [
    {
     "name": "stdout",
     "output_type": "stream",
     "text": [
      "['MRA', 'MRA', 'MRA', 'MRA', 'LCAO', 'LCAO', 'MRA', 'MRA', 'MRA', 'MRA', 'MRA', 'LCAO', 'MRA', 'MRA', 'MRA', 'MRA', 'MRA', 'MRA', 'MRA', 'MRA', 'MRA', 'LCAO', 'MRA', 'LCAO', 'MRA', 'MRA', 'MRA', 'MRA', 'MRA', 'LCAO', 'MRA', 'LCAO', 'MRA', 'LCAO', 'MRA', 'MRA', 'LCAO', 'LCAO', 'MRA', 'LCAO', 'MRA', 'MRA', 'MRA', 'MRA', 'MRA', 'MRA', 'MRA', 'MRA', 'MRA', 'MRA', 'MRA', 'LCAO', 'MRA', 'MRA', 'MRA', 'MRA', 'MRA', 'MRA', 'MRA', 'LCAO', 'MRA', 'MRA', 'MRA', 'LCAO', 'MRA', 'MRA', 'MRA', 'MRA', 'MRA', 'MRA', 'MRA', 'MRA', 'MRA', 'MRA', 'MRA', 'MRA']\n",
      "14 62\n"
     ]
    }
   ],
   "source": [
    "print(scf_winner)\n",
    "print(lcao_counter, mra_counter)"
   ]
  },
  {
   "cell_type": "code",
   "execution_count": 85,
   "id": "ae6e0136-ca6c-4f5a-9116-6c9140567d9b",
   "metadata": {},
   "outputs": [],
   "source": [
    "hf_dft_winner = []\n",
    "lcao_counter = 0\n",
    "mra_counter = 0\n",
    "for i,j in zip(lcao_hfdft,error_bh):\n",
    "    if abs(i) < abs(j):\n",
    "        hf_dft_winner.append('LCAO')\n",
    "        lcao_counter +=1\n",
    "    elif abs(i) > abs(j):\n",
    "        hf_dft_winner.append('MRA')\n",
    "        mra_counter +=1\n",
    "    else:\n",
    "        hf_dft_winner.append('draw')"
   ]
  },
  {
   "cell_type": "code",
   "execution_count": 86,
   "id": "1fb7704c-8877-46d6-ac1b-78ec68425663",
   "metadata": {},
   "outputs": [
    {
     "name": "stdout",
     "output_type": "stream",
     "text": [
      "['LCAO', 'LCAO', 'MRA', 'MRA', 'LCAO', 'LCAO', 'MRA', 'MRA', 'LCAO', 'LCAO', 'LCAO', 'MRA', 'LCAO', 'LCAO', 'LCAO', 'LCAO', 'LCAO', 'LCAO', 'LCAO', 'LCAO', 'LCAO', 'LCAO', 'LCAO', 'LCAO', 'LCAO', 'LCAO', 'LCAO', 'LCAO', 'LCAO', 'MRA', 'MRA', 'LCAO', 'LCAO', 'LCAO', 'LCAO', 'LCAO', 'MRA', 'MRA', 'MRA', 'LCAO', 'MRA', 'LCAO', 'MRA', 'MRA', 'MRA', 'MRA', 'MRA', 'MRA', 'LCAO', 'LCAO', 'MRA', 'LCAO', 'MRA', 'LCAO', 'LCAO', 'LCAO', 'MRA', 'MRA', 'MRA', 'LCAO', 'MRA', 'MRA', 'MRA', 'LCAO', 'MRA', 'LCAO', 'MRA', 'MRA', 'MRA', 'MRA', 'MRA', 'MRA', 'MRA', 'MRA', 'MRA', 'MRA']\n",
      "40 36\n"
     ]
    }
   ],
   "source": [
    "print(hf_dft_winner)\n",
    "print(lcao_counter, mra_counter)"
   ]
  },
  {
   "cell_type": "code",
   "execution_count": 100,
   "id": "f37ec719-83a6-47c5-b860-c628521648dd",
   "metadata": {},
   "outputs": [],
   "source": [
    "table2 = pd.DataFrame(list(zip(a, scf_diff, hfdft_diff, scf_winner, hf_dft_winner)), columns = ['Reaction', 'SCF', 'HF-DFT', 'SCF winner', 'HF-DFT winner' ], index=refdict.keys())\n",
    "table2['SCF'] = table2['SCF'].apply(lambda x: round(x, 2))\n",
    "table2['HF-DFT'] = table2['HF-DFT'].apply(lambda x: round(x, 2))"
   ]
  },
  {
   "cell_type": "code",
   "execution_count": 101,
   "id": "9b5af94b-007f-481a-a4b2-fbdccf2e1021",
   "metadata": {},
   "outputs": [
    {
     "name": "stdout",
     "output_type": "stream",
     "text": [
      "                                            Reaction   SCF  HF-DFT SCF winner  \\\n",
      "1                         \\ce{H + N 2 O -> N 2 + OH} -0.14   -0.32        MRA   \n",
      "2                                          1 reverse -0.03    0.15        MRA   \n",
      "3                              \\ce{H + HF -> HF + H} -0.09   -0.42        MRA   \n",
      "4                                          3 reverse -0.09   -0.42        MRA   \n",
      "5                            \\ce{H + HCl -> HCl + H}  0.34    0.11       LCAO   \n",
      "..                                               ...   ...     ...        ...   \n",
      "72                                        71 reverse -0.14   -0.10        MRA   \n",
      "73                   \\ce{NH 2 + CH 4 -> NH 3 + CH 3} -0.13   -0.08        MRA   \n",
      "74                                        73 reverse -0.18   -0.10        MRA   \n",
      "75  \\ce{s-trans cis-C 5 H 8 -> s-trans cis-C 5 H 8 } -0.04   -0.09        MRA   \n",
      "76                                        75 reverse -0.04   -0.09        MRA   \n",
      "\n",
      "   HF-DFT winner  \n",
      "1           LCAO  \n",
      "2           LCAO  \n",
      "3            MRA  \n",
      "4            MRA  \n",
      "5           LCAO  \n",
      "..           ...  \n",
      "72           MRA  \n",
      "73           MRA  \n",
      "74           MRA  \n",
      "75           MRA  \n",
      "76           MRA  \n",
      "\n",
      "[76 rows x 5 columns]\n"
     ]
    }
   ],
   "source": [
    "print(table2)"
   ]
  },
  {
   "cell_type": "code",
   "execution_count": 102,
   "id": "c89b6ebb-1444-47eb-8cdd-d67b4452f8c2",
   "metadata": {},
   "outputs": [
    {
     "name": "stdout",
     "output_type": "stream",
     "text": [
      "\\begin{tabular}{llrrll}\n",
      "\\toprule\n",
      " & Reaction & SCF & HF-DFT & SCF winner & HF-DFT winner \\\\\n",
      "\\midrule\n",
      "1 & \\ce{H + N 2 O -> N 2 + OH} & -0.14 & -0.32 & MRA & LCAO \\\\\n",
      "2 & 1 reverse & -0.03 & 0.15 & MRA & LCAO \\\\\n",
      "3 & \\ce{H + HF -> HF + H} & -0.09 & -0.42 & MRA & MRA \\\\\n",
      "4 & 3 reverse & -0.09 & -0.42 & MRA & MRA \\\\\n",
      "5 & \\ce{H + HCl -> HCl + H} & 0.34 & 0.11 & LCAO & LCAO \\\\\n",
      "6 & 5 reverse & 0.34 & 0.11 & LCAO & LCAO \\\\\n",
      "7 & \\ce{CH 3 F + H -> CH 3 + HF} & -0.22 & -0.49 & MRA & MRA \\\\\n",
      "8 & 7 reverse & -0.14 & -0.11 & MRA & MRA \\\\\n",
      "9 & \\ce{F 2 + H -> F + HF} & -0.27 & -0.75 & MRA & LCAO \\\\\n",
      "10 & 9 reverse & -0.12 & -0.40 & MRA & LCAO \\\\\n",
      "11 & \\ce{CH 3 + ClF -> CH 3 F + Cl} & -0.62 & -0.57 & MRA & LCAO \\\\\n",
      "12 & 11 reverse & 0.33 & 0.22 & LCAO & MRA \\\\\n",
      "13 & \\ce{CH 3 F + F - -> FCH 3 + F -} & -0.66 & -0.17 & MRA & LCAO \\\\\n",
      "14 & 13 reverse & -0.66 & -0.17 & MRA & LCAO \\\\\n",
      "15 & \\ce{CH 3 F . . . F - -> FCH 3 . . . F -} & -0.13 & -0.07 & MRA & LCAO \\\\\n",
      "16 & 15 reverse & -0.13 & -0.07 & MRA & LCAO \\\\\n",
      "17 & \\ce{CH 3 Cl + Cl - -> ClCH 3 + Cl -} & -0.41 & -0.41 & MRA & LCAO \\\\\n",
      "18 & 17 reverse & -0.41 & -0.41 & MRA & LCAO \\\\\n",
      "19 & \\ce{CH 3 Cl . . . Cl - -> ClCH 3 . . . Cl -} & -0.31 & -0.29 & MRA & LCAO \\\\\n",
      "20 & 19 reverse & -0.31 & -0.29 & MRA & LCAO \\\\\n",
      "21 & \\ce{CH 3 Cl + F - -> CH 3 F + Cl -} & -0.92 & -0.48 & MRA & LCAO \\\\\n",
      "22 & 21 reverse & 0.02 & -0.12 & LCAO & LCAO \\\\\n",
      "23 & \\ce{F - . . . CH 3 Cl -> CH 3 F . . . Cl -} & -0.29 & -0.27 & MRA & LCAO \\\\\n",
      "24 & 23 reverse & 0.07 & -0.06 & LCAO & LCAO \\\\\n",
      "25 & \\ce{CH 3 F + OH - -> HOCH 3 + F -} & -1.44 & -0.31 & MRA & LCAO \\\\\n",
      "26 & 25 reverse & -0.61 & -0.14 & MRA & LCAO \\\\\n",
      "27 & \\ce{CH 3 F . . . OH - -> HOCH 3 . . . F -} & -0.25 & -0.11 & MRA & LCAO \\\\\n",
      "28 & 27 reverse & -0.02 & -0.09 & MRA & LCAO \\\\\n",
      "29 & \\ce{H + N 2 -> HN 2} & -0.17 & -0.46 & MRA & LCAO \\\\\n",
      "30 & 29 reverse & 0.05 & -0.27 & LCAO & MRA \\\\\n",
      "31 & \\ce{H + CO -> HCO} & -0.17 & -0.50 & MRA & MRA \\\\\n",
      "32 & 31 reverse & -0.02 & -0.14 & LCAO & LCAO \\\\\n",
      "33 & \\ce{H + C 2 H 4 -> CH 3 CH 2} & -0.20 & -0.56 & MRA & LCAO \\\\\n",
      "34 & 33 reverse & 0.00 & -0.21 & LCAO & LCAO \\\\\n",
      "35 & \\ce{C 2 H 4 + CH 3 -> CH 3 CH 2 CH 2} & -0.24 & -0.17 & MRA & LCAO \\\\\n",
      "36 & 35 reverse & -0.10 & -0.15 & MRA & LCAO \\\\\n",
      "37 & \\ce{HCN -> HNC} & 0.03 & -0.03 & LCAO & MRA \\\\\n",
      "38 & 37 reverse & 0.02 & -0.05 & LCAO & MRA \\\\\n",
      "39 & \\ce{H + HCl -> H 2 + Cl} & -0.36 & -0.61 & MRA & MRA \\\\\n",
      "40 & 39 reverse & 0.06 & 0.10 & LCAO & LCAO \\\\\n",
      "41 & \\ce{OH + H 2 -> H + H 2 O} & -0.10 & -0.03 & MRA & MRA \\\\\n",
      "42 & 41 reverse & -0.22 & -0.44 & MRA & LCAO \\\\\n",
      "43 & \\ce{CH 3 + H 2 -> CH 4 + H} & -0.12 & -0.02 & MRA & MRA \\\\\n",
      "44 & 43 reverse & -0.21 & -0.42 & MRA & MRA \\\\\n",
      "45 & \\ce{CH 4 + OH -> CH 3 + H 2 O} & -0.12 & -0.05 & MRA & MRA \\\\\n",
      "46 & 45 reverse & -0.17 & -0.07 & MRA & MRA \\\\\n",
      "47 & \\ce{H 2 + H -> H + H 2} & -0.08 & -0.37 & MRA & MRA \\\\\n",
      "48 & 47 reverse & -0.08 & -0.37 & MRA & MRA \\\\\n",
      "49 & \\ce{NH 3 + OH -> NH 2 + H 2 O} & -0.10 & 0.22 & MRA & LCAO \\\\\n",
      "50 & 49 reverse & -0.11 & 0.21 & MRA & LCAO \\\\\n",
      "51 & \\ce{CH 3 + HCl -> CH 4 + Cl} & -0.32 & -0.24 & MRA & MRA \\\\\n",
      "52 & 51 reverse & 0.00 & 0.08 & LCAO & LCAO \\\\\n",
      "53 & \\ce{C 2 H 6 + OH -> C 2 H 5 + H 2 O} & -0.13 & -0.02 & MRA & MRA \\\\\n",
      "54 & 53 reverse & -0.15 & -0.08 & MRA & LCAO \\\\\n",
      "55 & \\ce{F + H 2 -> H + HF} & -0.14 & 0.01 & MRA & LCAO \\\\\n",
      "56 & 55 reverse & -0.23 & -0.39 & MRA & LCAO \\\\\n",
      "57 & \\ce{O + CH 4 -> OH + CH 3} & -0.19 & -0.04 & MRA & MRA \\\\\n",
      "58 & 57 reverse & -0.19 & -0.06 & MRA & MRA \\\\\n",
      "59 & \\ce{H + PH 3 -> H 2 + PH 2} & -0.21 & -0.50 & MRA & MRA \\\\\n",
      "60 & 59 reverse & 0.10 & 0.13 & LCAO & LCAO \\\\\n",
      "61 & \\ce{H + OH -> O + H 2} & -0.14 & -0.43 & MRA & MRA \\\\\n",
      "62 & 61 reverse & -0.06 & -0.02 & MRA & MRA \\\\\n",
      "63 & \\ce{H + H 2 S -> H 2 + HS} & -0.24 & -0.55 & MRA & MRA \\\\\n",
      "64 & 63 reverse & 0.17 & 0.15 & LCAO & LCAO \\\\\n",
      "65 & \\ce{O + HCl -> OH + Cl} & -0.36 & -1.00 & MRA & MRA \\\\\n",
      "66 & 65 reverse & -0.03 & -0.69 & MRA & LCAO \\\\\n",
      "67 & \\ce{NH 2 + CH 3 -> NH + CH 4} & -0.18 & -0.13 & MRA & MRA \\\\\n",
      "68 & 67 reverse & -0.17 & -0.09 & MRA & MRA \\\\\n",
      "69 & \\ce{NH 2 + C 2 H 5 -> NH + C 2 H 6} & -0.16 & -0.13 & MRA & MRA \\\\\n",
      "70 & 69 reverse & -0.18 & -0.06 & MRA & MRA \\\\\n",
      "71 & \\ce{NH 2 + C 2 H 6 -> NH 3 + C 2 H 5} & -0.13 & -0.05 & MRA & MRA \\\\\n",
      "72 & 71 reverse & -0.14 & -0.10 & MRA & MRA \\\\\n",
      "73 & \\ce{NH 2 + CH 4 -> NH 3 + CH 3} & -0.13 & -0.08 & MRA & MRA \\\\\n",
      "74 & 73 reverse & -0.18 & -0.10 & MRA & MRA \\\\\n",
      "75 & \\ce{s-trans cis-C 5 H 8 -> s-trans cis-C 5 H 8 } & -0.04 & -0.09 & MRA & MRA \\\\\n",
      "76 & 75 reverse & -0.04 & -0.09 & MRA & MRA \\\\\n",
      "\\bottomrule\n",
      "\\end{tabular}\n",
      "\n"
     ]
    }
   ],
   "source": [
    "print(table2.to_latex(float_format=\"%.2f\"))"
   ]
  },
  {
   "cell_type": "code",
   "execution_count": null,
   "id": "e009956a-a027-428a-8220-75fe74f1f495",
   "metadata": {},
   "outputs": [],
   "source": []
  }
 ],
 "metadata": {
  "kernelspec": {
   "display_name": "Python 3 (ipykernel)",
   "language": "python",
   "name": "python3"
  },
  "language_info": {
   "codemirror_mode": {
    "name": "ipython",
    "version": 3
   },
   "file_extension": ".py",
   "mimetype": "text/x-python",
   "name": "python",
   "nbconvert_exporter": "python",
   "pygments_lexer": "ipython3",
   "version": "3.11.5"
  }
 },
 "nbformat": 4,
 "nbformat_minor": 5
}
